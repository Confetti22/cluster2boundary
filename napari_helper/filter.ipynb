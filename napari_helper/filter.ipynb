{
 "cells": [
  {
   "cell_type": "code",
   "execution_count": 1,
   "metadata": {},
   "outputs": [],
   "source": [
    "import tifffile as tif\n",
    "from tqdm import tqdm\n",
    "import matplotlib.pyplot as plt\n",
    "import numpy as np\n",
    "from pathlib import Path\n",
    "from utilitis import time_execution\n",
    "import dask\n",
    "from dask import delayed\n",
    "import dask.array as da\n",
    "from dask.diagnostics import ProgressBar\n",
    "from dask.distributed import Client\n",
    "from filter_visor import get_brain_mask_dd,get_brain_mask\n",
    "import os\n",
    "\n",
    "\n"
   ]
  },
  {
   "cell_type": "code",
   "execution_count": 6,
   "metadata": {},
   "outputs": [
    {
     "name": "stdout",
     "output_type": "stream",
     "text": [
      "[########################################] | 100% Completed | 57.31 s\n",
      "Execution time: 57.321325 seconds\n"
     ]
    }
   ],
   "source": [
    "home_dir = os.getenv(\"HOME\")\n",
    "path=\"/Users/cottonfisher/workspace/cluster2boudnary/data/r32_c488.tif\"\n",
    "\n",
    "fname=Path(path).stem\n",
    "dirname=Path(path).parent\n",
    "volome=tif.imread(path)\n",
    "small_vol=volome[0:50,:,:]\n",
    "\n",
    "brain_mask=get_brain_mask_dd(small_vol,thres=200)\n",
    "\n",
    "\n",
    "\n"
   ]
  },
  {
   "cell_type": "code",
   "execution_count": 5,
   "metadata": {},
   "outputs": [
    {
     "name": "stderr",
     "output_type": "stream",
     "text": [
      "100%|██████████| 50/50 [00:47<00:00,  1.06it/s]"
     ]
    },
    {
     "name": "stdout",
     "output_type": "stream",
     "text": [
      "Execution time: 47.063078 seconds\n"
     ]
    },
    {
     "name": "stderr",
     "output_type": "stream",
     "text": [
      "\n"
     ]
    }
   ],
   "source": [
    "brain_mask=get_brain_mask(small_vol,thres=200)"
   ]
  },
  {
   "cell_type": "code",
   "execution_count": 15,
   "metadata": {},
   "outputs": [
    {
     "name": "stdout",
     "output_type": "stream",
     "text": [
      "Random Number: 5\n",
      "Intervals: [(5, 6), (305, 306), (605, 606), (905, 906), (1205, 1206), (1505, 1506), (1805, 1806)]\n"
     ]
    }
   ],
   "source": [
    "import random\n",
    "\n",
    "def generate_random_in_intervals(start, end, step, limit):\n",
    "    intervals = []\n",
    "    current_start = start\n",
    "    current_end = end\n",
    "    \n",
    "    # Generate intervals\n",
    "    while current_end <= limit:\n",
    "        intervals.append((current_start, current_end))\n",
    "        current_start += step\n",
    "        current_end += step\n",
    "\n",
    "    # Choose a random interval and generate a random number within it\n",
    "    chosen_interval = random.choice(intervals)\n",
    "    return random.randint(chosen_interval[0], chosen_interval[1]),intervals\n",
    "\n",
    "# Example usage\n",
    "start = 5\n",
    "end = 7 \n",
    "step = 300\n",
    "limit = 2028\n",
    "\n",
    "random_number, all_intervals = generate_random_in_intervals(start, end, step, limit)\n",
    "print(\"Random Number:\", random_number)\n",
    "print(\"Intervals:\", all_intervals)"
   ]
  }
 ],
 "metadata": {
  "kernelspec": {
   "display_name": "napari",
   "language": "python",
   "name": "python3"
  },
  "language_info": {
   "codemirror_mode": {
    "name": "ipython",
    "version": 3
   },
   "file_extension": ".py",
   "mimetype": "text/x-python",
   "name": "python",
   "nbconvert_exporter": "python",
   "pygments_lexer": "ipython3",
   "version": "3.12.5"
  }
 },
 "nbformat": 4,
 "nbformat_minor": 2
}
