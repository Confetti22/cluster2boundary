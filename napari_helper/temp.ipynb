{
 "cells": [
  {
   "cell_type": "code",
   "execution_count": 2,
   "metadata": {},
   "outputs": [],
   "source": [
    "import numpy as np"
   ]
  },
  {
   "cell_type": "code",
   "execution_count": 4,
   "metadata": {},
   "outputs": [
    {
     "data": {
      "text/plain": [
       "[1, 1, 4]"
      ]
     },
     "execution_count": 4,
     "metadata": {},
     "output_type": "execute_result"
    }
   ],
   "source": [
    "\n",
    "roi_size=np.array([6,9,32])\n",
    "scale=8\n",
    "lr_roi_size = [max(int(roi / scale), 1) for roi in roi_size]\n",
    "lr_roi_size"
   ]
  },
  {
   "cell_type": "code",
   "execution_count": 15,
   "metadata": {},
   "outputs": [
    {
     "name": "stdout",
     "output_type": "stream",
     "text": [
      "[[[ 0  1  2  3]\n",
      "  [ 4  5  6  7]\n",
      "  [ 8  9 10 11]\n",
      "  [12 13 14 15]]\n",
      "\n",
      " [[16 17 18 19]\n",
      "  [20 21 22 23]\n",
      "  [24 25 26 27]\n",
      "  [28 29 30 31]]\n",
      "\n",
      " [[32 33 34 35]\n",
      "  [36 37 38 39]\n",
      "  [40 41 42 43]\n",
      "  [44 45 46 47]]\n",
      "\n",
      " [[48 49 50 51]\n",
      "  [52 53 54 55]\n",
      "  [56 57 58 59]\n",
      "  [60 61 62 63]]]\n",
      "subvol:\n",
      "(1, 3, 2)\n",
      "[[[ 5  6]\n",
      "  [ 9 10]\n",
      "  [13 14]]]\n",
      "shape of mip (1, 3)\n",
      "mip:[[ 6 10 14]]\n"
     ]
    }
   ],
   "source": [
    "import numpy as np\n",
    "vol = np.arange(64)\n",
    "vol = np.reshape(vol, (4,4,4))\n",
    "subvol = vol[0:1,1:,1:3]\n",
    "print(vol)\n",
    "print('subvol:')\n",
    "print(subvol.shape)\n",
    "print(subvol)\n",
    "mip = np.max(subvol,axis=2)\n",
    "print(f\"shape of mip {mip.shape}\")\n",
    "print(f\"mip:{mip}\")\n",
    "\n",
    "\n"
   ]
  }
 ],
 "metadata": {
  "kernelspec": {
   "display_name": "napari",
   "language": "python",
   "name": "python3"
  },
  "language_info": {
   "codemirror_mode": {
    "name": "ipython",
    "version": 3
   },
   "file_extension": ".py",
   "mimetype": "text/x-python",
   "name": "python",
   "nbconvert_exporter": "python",
   "pygments_lexer": "ipython3",
   "version": "3.12.5"
  }
 },
 "nbformat": 4,
 "nbformat_minor": 2
}
